{
 "cells": [
  {
   "cell_type": "markdown",
   "metadata": {},
   "source": [
    "### CMPE 256 Assignment 6 -  Information Retrieval Similarity  ###"
   ]
  },
  {
   "cell_type": "markdown",
   "metadata": {},
   "source": [
    "#### Adding the Dataset "
   ]
  },
  {
   "cell_type": "code",
   "execution_count": 3,
   "metadata": {},
   "outputs": [],
   "source": [
    "documents = [\n",
    "    \"You say goodbye, I say hello\",\n",
    "    \"You say stop, I say go\",\n",
    "    \"Hello, hello, you say goodbye\",\n",
    "    \"I say yes, you say no\",\n",
    "]\n",
    "\n",
    "queries = [\n",
    "    \"say goodbye\",\n",
    "    \"you hello\",\n",
    "]"
   ]
  },
  {
   "cell_type": "markdown",
   "metadata": {},
   "source": [
    "#### Functions for Angle, Distance, Projection and Similarity"
   ]
  },
  {
   "cell_type": "code",
   "execution_count": 24,
   "metadata": {},
   "outputs": [],
   "source": [
    "import nltk\n",
    "from nltk.corpus import stopwords\n",
    "from nltk.tokenize import word_tokenize"
   ]
  },
  {
   "cell_type": "code",
   "execution_count": 25,
   "metadata": {},
   "outputs": [],
   "source": [
    "# Find Similarity between 2 documents\n",
    "def findsimilarity(document_1, document_2):\n",
    "\n",
    "    # tokenization\n",
    "    X_list = set(word_tokenize(document_1))\n",
    "    Y_list = set(word_tokenize(document_2))\n",
    "    \n",
    "    l1 =[];l2 =[]\n",
    "\n",
    "    rvector = X_list.union(Y_list) \n",
    "    for w in rvector:\n",
    "        if w in X_list: l1.append(1) \n",
    "        else: l1.append(0)\n",
    "        if w in Y_list: l2.append(1)\n",
    "        else: l2.append(0)\n",
    "    \n",
    "    c = 0\n",
    "    \n",
    "    for i in range(len(rvector)):\n",
    "            c+= l1[i]*l2[i]\n",
    "    cosine = c / float((sum(l1)*sum(l2))**0.5)\n",
    "\n",
    "    return cosine"
   ]
  },
  {
   "cell_type": "code",
   "execution_count": 32,
   "metadata": {},
   "outputs": [
    {
     "name": "stdout",
     "output_type": "stream",
     "text": [
      "Q1 is most similar to D1\n",
      "Q2 is most similar to D3\n"
     ]
    }
   ],
   "source": [
    "similarity = {}\n",
    "\n",
    "for q_idx, query in enumerate(queries):\n",
    "    similarity[\"Q\" + str(q_idx + 1)] = {}\n",
    "    for d_idx, document in enumerate(documents):\n",
    "        similarity[\"Q\" + str(q_idx + 1)][\"D\" + str(d_idx + 1)] = findsimilarity(query, document)\n",
    "    print( \"Q\" + str(q_idx + 1) + \" is most similar to \" + max(similarity[\"Q\" + str(q_idx + 1)], key=similarity[\"Q\" + str(q_idx + 1)].get))\n"
   ]
  }
 ],
 "metadata": {
  "kernelspec": {
   "display_name": "Python 3 (ipykernel)",
   "language": "python",
   "name": "python3"
  },
  "language_info": {
   "codemirror_mode": {
    "name": "ipython",
    "version": 3
   },
   "file_extension": ".py",
   "mimetype": "text/x-python",
   "name": "python",
   "nbconvert_exporter": "python",
   "pygments_lexer": "ipython3",
   "version": "3.9.12"
  },
  "orig_nbformat": 4
 },
 "nbformat": 4,
 "nbformat_minor": 2
}
