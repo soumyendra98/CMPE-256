{
 "cells": [
  {
   "cell_type": "markdown",
   "metadata": {},
   "source": [
    "### CMPE 256 Assignment 4 -  US Cities Single Clustering ###"
   ]
  },
  {
   "cell_type": "markdown",
   "metadata": {},
   "source": [
    "#### Adding the Dataset \n"
   ]
  },
  {
   "cell_type": "code",
   "execution_count": 1,
   "metadata": {},
   "outputs": [],
   "source": [
    "import pandas as pd\n",
    "import numpy as np\n",
    "from sklearn.cluster import AgglomerativeClustering\n",
    "import scipy.cluster.hierarchy as sch"
   ]
  },
  {
   "cell_type": "code",
   "execution_count": 63,
   "metadata": {},
   "outputs": [
    {
     "name": "stdout",
     "output_type": "stream",
     "text": [
      "    BOS    NY    DC   MIA   CHI   SEA    SF    LA   DEN\n",
      "0     0   206   429  1504   963  2976  3095  2979  1949\n",
      "1   206     0   233  1308   802  2815  2934  2736  1771\n",
      "2   429   233     0  1075   671  2634  2799  2631  1616\n",
      "3  1504  1308  1075     0  1329  3273  3053  2687  2037\n",
      "4   963   802   671  1329     0  2013  2142  2054   996\n",
      "5  2976  2815  2684  3273  2013     0   808  1131  1307\n",
      "6  3095  2934  2799  3053  2142   808     0   379  1235\n",
      "7  2979  2786  2631  2687  2054  1131   379     0  1059\n",
      "8  1949  1771  1616  2037   996  1307  1235  1059     0\n"
     ]
    }
   ],
   "source": [
    "dataset = pd.read_csv('./Desktop/CMPE-256/Assignments/Assignment-4/Data_Points.csv')\n",
    "print(dataset)"
   ]
  },
  {
   "cell_type": "markdown",
   "metadata": {},
   "source": [
    "#### Single Link Clustering"
   ]
  },
  {
   "cell_type": "code",
   "execution_count": 59,
   "metadata": {},
   "outputs": [],
   "source": [
    "from scipy.cluster.hierarchy import dendrogram, linkage\n",
    "from matplotlib import pyplot as plt\n",
    "from scipy.cluster.hierarchy import ClusterWarning\n",
    "from warnings import simplefilter\n",
    "simplefilter(\"ignore\", ClusterWarning)"
   ]
  },
  {
   "cell_type": "code",
   "execution_count": 48,
   "metadata": {},
   "outputs": [
    {
     "data": {
      "text/plain": [
       "(9, 9)"
      ]
     },
     "execution_count": 48,
     "metadata": {},
     "output_type": "execute_result"
    }
   ],
   "source": [
    "dataset.shape"
   ]
  },
  {
   "cell_type": "code",
   "execution_count": 68,
   "metadata": {},
   "outputs": [
    {
     "name": "stdout",
     "output_type": "stream",
     "text": [
      "    BOS    NY    DC   MIA   CHI   SEA    SF    LA   DEN\n",
      "0     0   206   429  1504   963  2976  3095  2979  1949\n",
      "1   206     0   233  1308   802  2815  2934  2736  1771\n",
      "2   429   233     0  1075   671  2634  2799  2631  1616\n",
      "3  1504  1308  1075     0  1329  3273  3053  2687  2037\n",
      "4   963   802   671  1329     0  2013  2142  2054   996\n"
     ]
    }
   ],
   "source": [
    "print(dataset.head())"
   ]
  },
  {
   "cell_type": "markdown",
   "metadata": {},
   "source": [
    "##### Creating a Condensed Distance Matrix"
   ]
  },
  {
   "cell_type": "code",
   "execution_count": 72,
   "metadata": {},
   "outputs": [
    {
     "name": "stdout",
     "output_type": "stream",
     "text": [
      "[[   0.          574.63031594 1036.6720793  2544.14799098 2428.69409354\n",
      "  6549.39355971 6926.49954883 6589.13021574 4655.33403742]\n",
      " [ 574.63031594    0.          561.9546245  2527.90565489 2094.74556928\n",
      "  6493.6656828  6845.34937019 6482.85392401 4445.86223358]\n",
      " [1036.6720793   561.9546245     0.         2389.28399317 1763.10351369\n",
      "  6343.30158514 6685.73294411 6308.84474369 4196.19279824]\n",
      " [2544.14799098 2527.90565489 2389.28399317    0.         2854.17343552\n",
      "  6075.66366745 6284.60126022 5868.7078646  4351.47859928]\n",
      " [2428.69409354 2094.74556928 1763.10351369 2854.17343552    0.\n",
      "  5173.7981213  5484.75222777 5100.40880714 2756.91639336]\n",
      " [6549.39355971 6493.6656828  6343.30158514 6075.66366745 5173.7981213\n",
      "     0.         1408.19174831 1775.55709567 3074.29422795]\n",
      " [6926.49954883 6845.34937019 6685.73294411 6284.60126022 5484.75222777\n",
      "  1408.19174831    0.          792.38311441 3189.48224638]\n",
      " [6589.13021574 6482.85392401 6308.84474369 5868.7078646  5100.40880714\n",
      "  1775.55709567  792.38311441    0.         2769.45626432]\n",
      " [4655.33403742 4445.86223358 4196.19279824 4351.47859928 2756.91639336\n",
      "  3074.29422795 3189.48224638 2769.45626432    0.        ]]\n"
     ]
    }
   ],
   "source": [
    "import scipy.spatial.distance as ssd\n",
    "df = np.nan_to_num(dataset)\n",
    "linkage_df = ssd.squareform(ssd.pdist(df))\n",
    "print(linkage_df)"
   ]
  },
  {
   "cell_type": "markdown",
   "metadata": {},
   "source": [
    "##### Plotting the Dendogram"
   ]
  },
  {
   "cell_type": "code",
   "execution_count": 70,
   "metadata": {},
   "outputs": [
    {
     "data": {
      "image/png": "[encoded data removed]",
      "text/plain": [
       "<Figure size 720x504 with 1 Axes>"
      ]
     },
     "metadata": {},
     "output_type": "display_data"
    }
   ],
   "source": [
    "linked_single = linkage(linkage_df, 'single')\n",
    "labels = [\"BOS\", \"NY\", \"DC\" ,\"MIA\" ,\"CHI\",\"SEA\", \"SF\", \"LA\", \"DEN\"]\n",
    "plt.figure(figsize=(10, 7))\n",
    "dendrogram(linked_single,\n",
    "            orientation='top',\n",
    "            labels=labels,\n",
    "            distance_sort='ascending',\n",
    "            show_leaf_counts=True)\n",
    "plt.show()"
   ]
  }
 ],
 "metadata": {
  "kernelspec": {
   "display_name": "Python 3 (ipykernel)",
   "language": "python",
   "name": "python3"
  },
  "language_info": {
   "codemirror_mode": {
    "name": "ipython",
    "version": 3
   },
   "file_extension": ".py",
   "mimetype": "text/x-python",
   "name": "python",
   "nbconvert_exporter": "python",
   "pygments_lexer": "ipython3",
   "version": "3.9.12"
  },
  "orig_nbformat": 4
 },
 "nbformat": 4,
 "nbformat_minor": 2
}
