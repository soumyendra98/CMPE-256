{
 "cells": [
  {
   "cell_type": "code",
   "execution_count": 1,
   "metadata": {},
   "outputs": [],
   "source": [
    "import pandas as pd\n",
    "import numpy as np\n",
    "from statsmodels.graphics.tsaplots import plot_acf\n",
    "import matplotlib.pyplot as plt\n",
    "from sklearn.preprocessing import MinMaxScaler\n",
    "from sklearn.feature_selection import RFE\n",
    "from sklearn.ensemble import RandomForestRegressor\n",
    "import seaborn as sns\n",
    "from statsmodels.tsa.seasonal import seasonal_decompose"
   ]
  },
  {
   "cell_type": "markdown",
   "metadata": {},
   "source": [
    "### Read data"
   ]
  },
  {
   "cell_type": "code",
   "execution_count": 2,
   "metadata": {},
   "outputs": [],
   "source": [
    "df_fertilizers_raw = pd.read_csv('data/Fertilizers_FAOSTAT_data_en_12-3-2022.csv')\n",
    "df_emissions_raw = pd.read_csv('data/Emissions_FAOSTAT_data_en_12-3-2022.csv')\n",
    "df_yield_raw = pd.read_csv('data/FAOSTAT_data_en_12-3-2022.csv')"
   ]
  },
  {
   "cell_type": "code",
   "execution_count": 3,
   "metadata": {},
   "outputs": [],
   "source": [
    "df_precip_1990_raw = pd.read_csv('data/pr_climatology_annual-monthly_cru_1961-1990_IND.csv', skiprows=1, index_col=0)\n",
    "df_precip_2020_raw = pd.read_csv('data/pr_climatology_annual-monthly_cru_1991-2020_IND.csv', skiprows=1, index_col=0)\n",
    "df_maxtemp_1990_raw = pd.read_csv('data/tasmax_climatology_annual-monthly_cru_1961-1990_IND.csv', skiprows=1, index_col=0)\n",
    "df_maxtemp_2020_raw = pd.read_csv('data/tasmax_climatology_annual-monthly_cru_1991-2020_IND.csv', skiprows=1, index_col=0)\n",
    "df_avgtemp_1990_raw = pd.read_csv('data/tas_climatology_annual-monthly_cru_1961-1990_IND.csv', skiprows=1, index_col=0)\n",
    "df_avgtemp_2020_raw = pd.read_csv('data/tas_climatology_annual-monthly_cru_1991-2020_IND.csv', skiprows=1, index_col=0)\n",
    "df_mintemp_1990_raw = pd.read_csv('data/tasmin_climatology_annual-monthly_cru_1961-1990_IND.csv', skiprows=1, index_col=0)\n",
    "df_mintemp_2020_raw = pd.read_csv('data/tasmin_climatology_annual-monthly_cru_1991-2020_IND.csv', skiprows=1, index_col=0)"
   ]
  },
  {
   "cell_type": "code",
   "execution_count": 4,
   "metadata": {},
   "outputs": [],
   "source": [
    "df_precip_annual_raw = pd.read_csv('data/pr_timeseries_annual_cru_1901-2021_IND.csv', skiprows=1, index_col=0)\n",
    "df_maxtemp_annual_raw = pd.read_csv('data/tasmax_timeseries_annual_cru_1901-2021_IND.csv', skiprows=1, index_col=0)\n",
    "df_avgtemp_annual_raw = pd.read_csv('data/tas_timeseries_annual_cru_1901-2021_IND.csv', skiprows=1, index_col=0)\n",
    "df_mintemp_annual_raw = pd.read_csv('data/tasmin_timeseries_annual_cru_1901-2021_IND.csv', skiprows=1, index_col=0)"
   ]
  },
  {
   "cell_type": "markdown",
   "metadata": {},
   "source": [
    "### Climatology"
   ]
  },
  {
   "cell_type": "code",
   "execution_count": 5,
   "metadata": {},
   "outputs": [],
   "source": [
    "index = df_precip_annual_raw.iloc[-61:-1].index\n",
    "df_climatology = pd.DataFrame(index=index, columns=['precipitation', 'min_temp', 'avg_temp', 'max_temp'])\n",
    "state_mask = ['Uttar Pradesh', 'Bihar', 'West Bengal']\n",
    "df_climatology['precipitation'] = df_precip_annual_raw.iloc[-61:-1][state_mask].apply(lambda x: x.mean(), axis=1)\n",
    "df_climatology['min_temp'] = df_mintemp_annual_raw.iloc[-61:-1][state_mask].apply(lambda x: x.mean(), axis=1)\n",
    "df_climatology['avg_temp'] = df_avgtemp_annual_raw.iloc[-61:-1][state_mask].apply(lambda x: x.mean(), axis=1)\n",
    "df_climatology['max_temp'] = df_maxtemp_annual_raw.iloc[-61:-1][state_mask].apply(lambda x: x.mean(), axis=1)"
   ]
  },
  {
   "cell_type": "code",
   "execution_count": 6,
   "metadata": {},
   "outputs": [],
   "source": [
    "state_mask = ['Uttar Pradesh', 'Bihar', 'West Bengal']\n",
    "df_precip_1990 = df_precip_1990_raw.loc[state_mask, :].mean(axis=0).to_frame(name='1961-1990')\n",
    "df_precip_2020 = df_precip_2020_raw.loc[state_mask, :].mean(axis=0).to_frame(name='1991-2020')\n",
    "df_precip = pd.concat([df_precip_1990, df_precip_2020], axis=1)\n",
    "\n",
    "df_maxtemp_1990 = df_maxtemp_1990_raw.loc[state_mask, :].mean(axis=0).to_frame(name='1961-1990')\n",
    "df_maxtemp_2020 = df_maxtemp_2020_raw.loc[state_mask, :].mean(axis=0).to_frame(name='1991-2020')\n",
    "df_maxtemp = pd.concat([df_maxtemp_1990, df_maxtemp_2020], axis=1)\n",
    "\n",
    "df_avgtemp_1990 = df_avgtemp_1990_raw.loc[state_mask, :].mean(axis=0).to_frame(name='1961-1990')\n",
    "df_avgtemp_2020 = df_avgtemp_2020_raw.loc[state_mask, :].mean(axis=0).to_frame(name='1991-2020')\n",
    "df_avgtemp = pd.concat([df_avgtemp_1990, df_avgtemp_2020], axis=1)\n",
    "\n",
    "df_mintemp_1990 = df_mintemp_1990_raw.loc[state_mask, :].mean(axis=0).to_frame(name='1961-1990')\n",
    "df_mintemp_2020 = df_mintemp_2020_raw.loc[state_mask, :].mean(axis=0).to_frame(name='1991-2020')\n",
    "df_mintemp = pd.concat([df_mintemp_1990, df_mintemp_2020], axis=1)\n"
   ]
  },
  {
   "cell_type": "markdown",
   "metadata": {},
   "source": [
    "### Fertilizer "
   ]
  },
  {
   "cell_type": "code",
   "execution_count": 7,
   "metadata": {},
   "outputs": [],
   "source": [
    "nitrogen_mask = df_fertilizers_raw['Item'] == 'Nutrient nitrogen N (total)'\n",
    "phosphate_mask = df_fertilizers_raw['Item'] == 'Nutrient phosphate P2O5 (total)'\n",
    "potash_mask = df_fertilizers_raw['Item'] == 'Nutrient potash K2O (total)'\n",
    "df_fertilizers_nitrogen = df_fertilizers_raw[nitrogen_mask].set_index('Year')\n",
    "df_fertilizers_phosphate = df_fertilizers_raw[phosphate_mask].set_index('Year')\n",
    "df_fertilizers_potash = df_fertilizers_raw[potash_mask].set_index('Year')"
   ]
  },
  {
   "cell_type": "markdown",
   "metadata": {},
   "source": [
    "### Emission "
   ]
  },
  {
   "cell_type": "code",
   "execution_count": 8,
   "metadata": {},
   "outputs": [],
   "source": [
    "co2_mask = df_emissions_raw['Element'] == 'Emissions (CO2)'\n",
    "df_emissions_co2 = df_emissions_raw[co2_mask].set_index('Year')\n",
    "df_emissions_co2 = df_emissions_co2.groupby('Year')[['Value']].mean()"
   ]
  },
  {
   "cell_type": "markdown",
   "metadata": {},
   "source": [
    "### Production"
   ]
  },
  {
   "cell_type": "code",
   "execution_count": 9,
   "metadata": {},
   "outputs": [
    {
     "data": {
      "text/plain": [
       "array(['Area harvested', 'Yield', 'Production'], dtype=object)"
      ]
     },
     "execution_count": 9,
     "metadata": {},
     "output_type": "execute_result"
    }
   ],
   "source": [
    "df_yield_raw['Element'].unique()"
   ]
  },
  {
   "cell_type": "code",
   "execution_count": 10,
   "metadata": {},
   "outputs": [],
   "source": [
    "production_mask = df_yield_raw['Element'] == 'Production'\n",
    "df_production = df_yield_raw[production_mask].set_index('Year')"
   ]
  },
  {
   "cell_type": "code",
   "execution_count": 11,
   "metadata": {},
   "outputs": [
    {
     "data": {
      "text/html": [
       "<div>\n",
       "<style scoped>\n",
       "    .dataframe tbody tr th:only-of-type {\n",
       "        vertical-align: middle;\n",
       "    }\n",
       "\n",
       "    .dataframe tbody tr th {\n",
       "        vertical-align: top;\n",
       "    }\n",
       "\n",
       "    .dataframe thead th {\n",
       "        text-align: right;\n",
       "    }\n",
       "</style>\n",
       "<table border=\"1\" class=\"dataframe\">\n",
       "  <thead>\n",
       "    <tr style=\"text-align: right;\">\n",
       "      <th></th>\n",
       "      <th>Domain Code</th>\n",
       "      <th>Domain</th>\n",
       "      <th>Area Code (M49)</th>\n",
       "      <th>Area</th>\n",
       "      <th>Element Code</th>\n",
       "      <th>Element</th>\n",
       "      <th>Item Code (CPC)</th>\n",
       "      <th>Item</th>\n",
       "      <th>Year Code</th>\n",
       "      <th>Unit</th>\n",
       "      <th>Value</th>\n",
       "      <th>Flag</th>\n",
       "      <th>Flag Description</th>\n",
       "    </tr>\n",
       "    <tr>\n",
       "      <th>Year</th>\n",
       "      <th></th>\n",
       "      <th></th>\n",
       "      <th></th>\n",
       "      <th></th>\n",
       "      <th></th>\n",
       "      <th></th>\n",
       "      <th></th>\n",
       "      <th></th>\n",
       "      <th></th>\n",
       "      <th></th>\n",
       "      <th></th>\n",
       "      <th></th>\n",
       "      <th></th>\n",
       "    </tr>\n",
       "  </thead>\n",
       "  <tbody>\n",
       "    <tr>\n",
       "      <th>1961</th>\n",
       "      <td>QCL</td>\n",
       "      <td>Crops and livestock products</td>\n",
       "      <td>356</td>\n",
       "      <td>India</td>\n",
       "      <td>5510</td>\n",
       "      <td>Production</td>\n",
       "      <td>1510</td>\n",
       "      <td>Potatoes</td>\n",
       "      <td>1961</td>\n",
       "      <td>tonnes</td>\n",
       "      <td>2719000</td>\n",
       "      <td>A</td>\n",
       "      <td>Official figure</td>\n",
       "    </tr>\n",
       "    <tr>\n",
       "      <th>1962</th>\n",
       "      <td>QCL</td>\n",
       "      <td>Crops and livestock products</td>\n",
       "      <td>356</td>\n",
       "      <td>India</td>\n",
       "      <td>5510</td>\n",
       "      <td>Production</td>\n",
       "      <td>1510</td>\n",
       "      <td>Potatoes</td>\n",
       "      <td>1962</td>\n",
       "      <td>tonnes</td>\n",
       "      <td>2447000</td>\n",
       "      <td>A</td>\n",
       "      <td>Official figure</td>\n",
       "    </tr>\n",
       "    <tr>\n",
       "      <th>1963</th>\n",
       "      <td>QCL</td>\n",
       "      <td>Crops and livestock products</td>\n",
       "      <td>356</td>\n",
       "      <td>India</td>\n",
       "      <td>5510</td>\n",
       "      <td>Production</td>\n",
       "      <td>1510</td>\n",
       "      <td>Potatoes</td>\n",
       "      <td>1963</td>\n",
       "      <td>tonnes</td>\n",
       "      <td>3365000</td>\n",
       "      <td>A</td>\n",
       "      <td>Official figure</td>\n",
       "    </tr>\n",
       "    <tr>\n",
       "      <th>1964</th>\n",
       "      <td>QCL</td>\n",
       "      <td>Crops and livestock products</td>\n",
       "      <td>356</td>\n",
       "      <td>India</td>\n",
       "      <td>5510</td>\n",
       "      <td>Production</td>\n",
       "      <td>1510</td>\n",
       "      <td>Potatoes</td>\n",
       "      <td>1964</td>\n",
       "      <td>tonnes</td>\n",
       "      <td>2593000</td>\n",
       "      <td>A</td>\n",
       "      <td>Official figure</td>\n",
       "    </tr>\n",
       "    <tr>\n",
       "      <th>1965</th>\n",
       "      <td>QCL</td>\n",
       "      <td>Crops and livestock products</td>\n",
       "      <td>356</td>\n",
       "      <td>India</td>\n",
       "      <td>5510</td>\n",
       "      <td>Production</td>\n",
       "      <td>1510</td>\n",
       "      <td>Potatoes</td>\n",
       "      <td>1965</td>\n",
       "      <td>tonnes</td>\n",
       "      <td>3605000</td>\n",
       "      <td>A</td>\n",
       "      <td>Official figure</td>\n",
       "    </tr>\n",
       "  </tbody>\n",
       "</table>\n",
       "</div>"
      ],
      "text/plain": [
       "     Domain Code                        Domain  Area Code (M49)   Area  \\\n",
       "Year                                                                     \n",
       "1961         QCL  Crops and livestock products              356  India   \n",
       "1962         QCL  Crops and livestock products              356  India   \n",
       "1963         QCL  Crops and livestock products              356  India   \n",
       "1964         QCL  Crops and livestock products              356  India   \n",
       "1965         QCL  Crops and livestock products              356  India   \n",
       "\n",
       "      Element Code     Element  Item Code (CPC)      Item  Year Code    Unit  \\\n",
       "Year                                                                           \n",
       "1961          5510  Production             1510  Potatoes       1961  tonnes   \n",
       "1962          5510  Production             1510  Potatoes       1962  tonnes   \n",
       "1963          5510  Production             1510  Potatoes       1963  tonnes   \n",
       "1964          5510  Production             1510  Potatoes       1964  tonnes   \n",
       "1965          5510  Production             1510  Potatoes       1965  tonnes   \n",
       "\n",
       "        Value Flag Flag Description  \n",
       "Year                                 \n",
       "1961  2719000    A  Official figure  \n",
       "1962  2447000    A  Official figure  \n",
       "1963  3365000    A  Official figure  \n",
       "1964  2593000    A  Official figure  \n",
       "1965  3605000    A  Official figure  "
      ]
     },
     "execution_count": 11,
     "metadata": {},
     "output_type": "execute_result"
    }
   ],
   "source": [
    "df_production.head()"
   ]
  },
  {
   "cell_type": "code",
   "execution_count": 12,
   "metadata": {},
   "outputs": [
    {
     "name": "stderr",
     "output_type": "stream",
     "text": [
      "/Users/spartan/opt/anaconda3/lib/python3.9/site-packages/seaborn/distributions.py:2619: FutureWarning: `distplot` is a deprecated function and will be removed in a future version. Please adapt your code to use either `displot` (a figure-level function with similar flexibility) or `histplot` (an axes-level function for histograms).\n",
      "  warnings.warn(msg, FutureWarning)\n"
     ]
    },
    {
     "data": {
      "image/png": "[encoded data removed]",
      "text/plain": [
       "<Figure size 864x576 with 1 Axes>"
      ]
     },
     "metadata": {},
     "output_type": "display_data"
    }
   ],
   "source": [
    "plt.figure(figsize=(12,8))\n",
    "sns.distplot(df_production.Value, bins=100, kde=False)\n",
    "plt.xlabel('production value', fontsize=14)\n",
    "plt.title('Distribution of producton values', fontsize = 18)\n",
    "plt.show()"
   ]
  },
  {
   "cell_type": "code",
   "execution_count": 13,
   "metadata": {},
   "outputs": [
    {
     "data": {
      "text/plain": [
       "[<matplotlib.lines.Line2D at 0x7fa618b8f640>]"
      ]
     },
     "execution_count": 13,
     "metadata": {},
     "output_type": "execute_result"
    },
    {
     "data": {
      "image/png": "[encoded data removed]",
      "text/plain": [
       "<Figure size 432x288 with 1 Axes>"
      ]
     },
     "metadata": {},
     "output_type": "display_data"
    }
   ],
   "source": [
    "plt.plot(df_production.index, df_production['Value'])"
   ]
  },
  {
   "cell_type": "markdown",
   "metadata": {},
   "source": [
    "### Correlation between target and feature variables"
   ]
  },
  {
   "cell_type": "markdown",
   "metadata": {},
   "source": [
    "##### Production and fertilizer"
   ]
  },
  {
   "cell_type": "code",
   "execution_count": 14,
   "metadata": {},
   "outputs": [],
   "source": [
    "df_prod_fertilizer = pd.DataFrame(index=df_production.index, columns=['production', 'nitrogen', 'phosphate', 'potash'])\n",
    "mm_scaler = MinMaxScaler()\n",
    "df_prod_fertilizer['production']=mm_scaler.fit_transform(df_production['Value'].values.reshape(-1, 1))\n",
    "df_prod_fertilizer['nitrogen']=mm_scaler.fit_transform(df_fertilizers_nitrogen['Value'].values.reshape(-1, 1))\n",
    "df_prod_fertilizer['phosphate']=mm_scaler.fit_transform(df_fertilizers_phosphate['Value'].values.reshape(-1, 1))\n",
    "df_prod_fertilizer['potash']=mm_scaler.fit_transform(df_fertilizers_potash['Value'].values.reshape(-1, 1))"
   ]
  },
  {
   "cell_type": "code",
   "execution_count": 15,
   "metadata": {},
   "outputs": [
    {
     "data": {
      "text/plain": [
       "<matplotlib.legend.Legend at 0x7fa5f8c1e7f0>"
      ]
     },
     "execution_count": 15,
     "metadata": {},
     "output_type": "execute_result"
    },
    {
     "data": {
      "image/png": "[encoded data removed]",
      "text/plain": [
       "<Figure size 432x288 with 3 Axes>"
      ]
     },
     "metadata": {},
     "output_type": "display_data"
    }
   ],
   "source": [
    "x=df_prod_fertilizer.index\n",
    "fig, ax = plt.subplots(nrows=3, sharex=True)\n",
    "\n",
    "ax[0].plot(x, df_prod_fertilizer['production'], color='blue', label='production')\n",
    "ax[0].plot(x, df_prod_fertilizer['nitrogen'], color='red', label='nitrogen')\n",
    "ax[0].legend()\n",
    "\n",
    "ax[1].plot(x, df_prod_fertilizer['production'], color='blue', label='production')\n",
    "ax[1].plot(x, df_prod_fertilizer['phosphate'], color='green', label='phosphate')\n",
    "ax[1].legend()\n",
    "\n",
    "ax[2].plot(x, df_prod_fertilizer['production'], color='blue', label='production')\n",
    "ax[2].plot(x, df_prod_fertilizer['potash'], color='orange', label='potash')\n",
    "ax[2].legend()"
   ]
  },
  {
   "cell_type": "code",
   "execution_count": 16,
   "metadata": {},
   "outputs": [
    {
     "data": {
      "text/html": [
       "<div>\n",
       "<style scoped>\n",
       "    .dataframe tbody tr th:only-of-type {\n",
       "        vertical-align: middle;\n",
       "    }\n",
       "\n",
       "    .dataframe tbody tr th {\n",
       "        vertical-align: top;\n",
       "    }\n",
       "\n",
       "    .dataframe thead th {\n",
       "        text-align: right;\n",
       "    }\n",
       "</style>\n",
       "<table border=\"1\" class=\"dataframe\">\n",
       "  <thead>\n",
       "    <tr style=\"text-align: right;\">\n",
       "      <th></th>\n",
       "      <th>production</th>\n",
       "      <th>nitrogen</th>\n",
       "      <th>phosphate</th>\n",
       "      <th>potash</th>\n",
       "    </tr>\n",
       "  </thead>\n",
       "  <tbody>\n",
       "    <tr>\n",
       "      <th>production</th>\n",
       "      <td>1.000000</td>\n",
       "      <td>0.973624</td>\n",
       "      <td>0.961905</td>\n",
       "      <td>0.922592</td>\n",
       "    </tr>\n",
       "    <tr>\n",
       "      <th>nitrogen</th>\n",
       "      <td>0.973624</td>\n",
       "      <td>1.000000</td>\n",
       "      <td>0.983929</td>\n",
       "      <td>0.949675</td>\n",
       "    </tr>\n",
       "    <tr>\n",
       "      <th>phosphate</th>\n",
       "      <td>0.961905</td>\n",
       "      <td>0.983929</td>\n",
       "      <td>1.000000</td>\n",
       "      <td>0.969988</td>\n",
       "    </tr>\n",
       "    <tr>\n",
       "      <th>potash</th>\n",
       "      <td>0.922592</td>\n",
       "      <td>0.949675</td>\n",
       "      <td>0.969988</td>\n",
       "      <td>1.000000</td>\n",
       "    </tr>\n",
       "  </tbody>\n",
       "</table>\n",
       "</div>"
      ],
      "text/plain": [
       "            production  nitrogen  phosphate    potash\n",
       "production    1.000000  0.973624   0.961905  0.922592\n",
       "nitrogen      0.973624  1.000000   0.983929  0.949675\n",
       "phosphate     0.961905  0.983929   1.000000  0.969988\n",
       "potash        0.922592  0.949675   0.969988  1.000000"
      ]
     },
     "execution_count": 16,
     "metadata": {},
     "output_type": "execute_result"
    }
   ],
   "source": [
    "df_prod_fertilizer.corr()"
   ]
  },
  {
   "cell_type": "markdown",
   "metadata": {},
   "source": [
    "There appears a very high correlation of each fertilizer with the production of potatoes"
   ]
  },
  {
   "cell_type": "markdown",
   "metadata": {},
   "source": [
    "##### Production and emission co2"
   ]
  },
  {
   "cell_type": "code",
   "execution_count": 17,
   "metadata": {},
   "outputs": [],
   "source": [
    "df_prod_emission = pd.DataFrame(index=df_production.tail(31).index, columns=['production', 'co2'])\n",
    "mm_scaler = MinMaxScaler()\n",
    "df_prod_emission['production']=mm_scaler.fit_transform(df_production['Value'].tail(31).values.reshape(-1, 1))\n",
    "df_prod_emission['co2']=mm_scaler.fit_transform(df_emissions_co2['Value'].values.reshape(-1, 1))"
   ]
  },
  {
   "cell_type": "code",
   "execution_count": 18,
   "metadata": {},
   "outputs": [
    {
     "data": {
      "text/plain": [
       "<matplotlib.legend.Legend at 0x7fa5f8c48c10>"
      ]
     },
     "execution_count": 18,
     "metadata": {},
     "output_type": "execute_result"
    },
    {
     "data": {
      "image/png": "[encoded data removed]",
      "text/plain": [
       "<Figure size 432x288 with 1 Axes>"
      ]
     },
     "metadata": {},
     "output_type": "display_data"
    }
   ],
   "source": [
    "x=df_prod_emission.index\n",
    "fig, ax = plt.subplots()\n",
    "\n",
    "ax.plot(x, df_prod_emission['production'], color='blue', label='production')\n",
    "ax.plot(x, df_prod_emission['co2'], color='red', label='co2')\n",
    "ax.legend()"
   ]
  },
  {
   "cell_type": "code",
   "execution_count": 19,
   "metadata": {},
   "outputs": [
    {
     "data": {
      "text/html": [
       "<div>\n",
       "<style scoped>\n",
       "    .dataframe tbody tr th:only-of-type {\n",
       "        vertical-align: middle;\n",
       "    }\n",
       "\n",
       "    .dataframe tbody tr th {\n",
       "        vertical-align: top;\n",
       "    }\n",
       "\n",
       "    .dataframe thead th {\n",
       "        text-align: right;\n",
       "    }\n",
       "</style>\n",
       "<table border=\"1\" class=\"dataframe\">\n",
       "  <thead>\n",
       "    <tr style=\"text-align: right;\">\n",
       "      <th></th>\n",
       "      <th>production</th>\n",
       "      <th>co2</th>\n",
       "    </tr>\n",
       "  </thead>\n",
       "  <tbody>\n",
       "    <tr>\n",
       "      <th>production</th>\n",
       "      <td>1.000000</td>\n",
       "      <td>0.982883</td>\n",
       "    </tr>\n",
       "    <tr>\n",
       "      <th>co2</th>\n",
       "      <td>0.982883</td>\n",
       "      <td>1.000000</td>\n",
       "    </tr>\n",
       "  </tbody>\n",
       "</table>\n",
       "</div>"
      ],
      "text/plain": [
       "            production       co2\n",
       "production    1.000000  0.982883\n",
       "co2           0.982883  1.000000"
      ]
     },
     "execution_count": 19,
     "metadata": {},
     "output_type": "execute_result"
    }
   ],
   "source": [
    "df_prod_emission.corr()"
   ]
  },
  {
   "cell_type": "markdown",
   "metadata": {},
   "source": [
    "##### Production and climate"
   ]
  },
  {
   "cell_type": "code",
   "execution_count": 20,
   "metadata": {},
   "outputs": [],
   "source": [
    "df_prod_climate = pd.DataFrame(index=df_climatology.index, columns=['production', 'precipitation', 'min_temp', 'avg_temp', 'max_temp'])\n",
    "mm_scaler = MinMaxScaler()\n",
    "df_prod_climate['production']=mm_scaler.fit_transform(df_production['Value'].values.reshape(-1, 1))\n",
    "df_prod_climate['precipitation']=mm_scaler.fit_transform(df_climatology['precipitation'].values.reshape(-1, 1))\n",
    "df_prod_climate['min_temp']=mm_scaler.fit_transform(df_climatology['min_temp'].values.reshape(-1, 1))\n",
    "df_prod_climate['avg_temp']=mm_scaler.fit_transform(df_climatology['avg_temp'].values.reshape(-1, 1))\n",
    "df_prod_climate['max_temp']=mm_scaler.fit_transform(df_climatology['max_temp'].values.reshape(-1, 1))"
   ]
  },
  {
   "cell_type": "code",
   "execution_count": 21,
   "metadata": {},
   "outputs": [
    {
     "data": {
      "text/plain": [
       "<matplotlib.legend.Legend at 0x7fa5e0a86430>"
      ]
     },
     "execution_count": 21,
     "metadata": {},
     "output_type": "execute_result"
    },
    {
     "data": {
      "image/png": "[encoded data removed]",
      "text/plain": [
       "<Figure size 432x288 with 4 Axes>"
      ]
     },
     "metadata": {},
     "output_type": "display_data"
    }
   ],
   "source": [
    "x=df_prod_climate.index\n",
    "fig, ax = plt.subplots(nrows=4, sharex=True)\n",
    "\n",
    "ax[0].plot(x, df_prod_climate['production'], color='blue', label='production')\n",
    "ax[0].plot(x, df_prod_climate['precipitation'], color='red', label='precipitation')\n",
    "ax[0].legend()\n",
    "\n",
    "ax[1].plot(x, df_prod_climate['production'], color='blue', label='production')\n",
    "ax[1].plot(x, df_prod_climate['min_temp'], color='green', label='min_temp')\n",
    "ax[1].legend()\n",
    "\n",
    "ax[2].plot(x, df_prod_climate['production'], color='blue', label='production')\n",
    "ax[2].plot(x, df_prod_climate['avg_temp'], color='orange', label='avg_temp')\n",
    "ax[2].legend()\n",
    "\n",
    "ax[3].plot(x, df_prod_climate['production'], color='blue', label='production')\n",
    "ax[3].plot(x, df_prod_climate['max_temp'], color='magenta', label='max_temp')\n",
    "ax[3].legend()"
   ]
  },
  {
   "cell_type": "code",
   "execution_count": 22,
   "metadata": {},
   "outputs": [
    {
     "data": {
      "text/html": [
       "<div>\n",
       "<style scoped>\n",
       "    .dataframe tbody tr th:only-of-type {\n",
       "        vertical-align: middle;\n",
       "    }\n",
       "\n",
       "    .dataframe tbody tr th {\n",
       "        vertical-align: top;\n",
       "    }\n",
       "\n",
       "    .dataframe thead th {\n",
       "        text-align: right;\n",
       "    }\n",
       "</style>\n",
       "<table border=\"1\" class=\"dataframe\">\n",
       "  <thead>\n",
       "    <tr style=\"text-align: right;\">\n",
       "      <th></th>\n",
       "      <th>production</th>\n",
       "      <th>precipitation</th>\n",
       "      <th>min_temp</th>\n",
       "      <th>avg_temp</th>\n",
       "      <th>max_temp</th>\n",
       "    </tr>\n",
       "  </thead>\n",
       "  <tbody>\n",
       "    <tr>\n",
       "      <th>production</th>\n",
       "      <td>1.000000</td>\n",
       "      <td>-0.179659</td>\n",
       "      <td>0.626000</td>\n",
       "      <td>0.538645</td>\n",
       "      <td>0.403800</td>\n",
       "    </tr>\n",
       "    <tr>\n",
       "      <th>precipitation</th>\n",
       "      <td>-0.179659</td>\n",
       "      <td>1.000000</td>\n",
       "      <td>-0.195626</td>\n",
       "      <td>-0.259441</td>\n",
       "      <td>-0.309338</td>\n",
       "    </tr>\n",
       "    <tr>\n",
       "      <th>min_temp</th>\n",
       "      <td>0.626000</td>\n",
       "      <td>-0.195626</td>\n",
       "      <td>1.000000</td>\n",
       "      <td>0.967825</td>\n",
       "      <td>0.861353</td>\n",
       "    </tr>\n",
       "    <tr>\n",
       "      <th>avg_temp</th>\n",
       "      <td>0.538645</td>\n",
       "      <td>-0.259441</td>\n",
       "      <td>0.967825</td>\n",
       "      <td>1.000000</td>\n",
       "      <td>0.961432</td>\n",
       "    </tr>\n",
       "    <tr>\n",
       "      <th>max_temp</th>\n",
       "      <td>0.403800</td>\n",
       "      <td>-0.309338</td>\n",
       "      <td>0.861353</td>\n",
       "      <td>0.961432</td>\n",
       "      <td>1.000000</td>\n",
       "    </tr>\n",
       "  </tbody>\n",
       "</table>\n",
       "</div>"
      ],
      "text/plain": [
       "               production  precipitation  min_temp  avg_temp  max_temp\n",
       "production       1.000000      -0.179659  0.626000  0.538645  0.403800\n",
       "precipitation   -0.179659       1.000000 -0.195626 -0.259441 -0.309338\n",
       "min_temp         0.626000      -0.195626  1.000000  0.967825  0.861353\n",
       "avg_temp         0.538645      -0.259441  0.967825  1.000000  0.961432\n",
       "max_temp         0.403800      -0.309338  0.861353  0.961432  1.000000"
      ]
     },
     "execution_count": 22,
     "metadata": {},
     "output_type": "execute_result"
    }
   ],
   "source": [
    "df_prod_climate.corr()"
   ]
  },
  {
   "cell_type": "markdown",
   "metadata": {},
   "source": [
    "Two time series which share the same trend will show high correlation. However, Pearson’s correlation is a statistic, measuring linear association of variables. Values over time could have an internal structure. That could include trends, seasonality, or auto-correlation. Therefore, correlation is a good estimate only of the trend behaviour of time series "
   ]
  },
  {
   "cell_type": "markdown",
   "metadata": {},
   "source": [
    "##### correlation of each lagged observation to determine if statistically significant."
   ]
  },
  {
   "cell_type": "code",
   "execution_count": 23,
   "metadata": {},
   "outputs": [
    {
     "data": {
      "text/html": [
       "<div>\n",
       "<style scoped>\n",
       "    .dataframe tbody tr th:only-of-type {\n",
       "        vertical-align: middle;\n",
       "    }\n",
       "\n",
       "    .dataframe tbody tr th {\n",
       "        vertical-align: top;\n",
       "    }\n",
       "\n",
       "    .dataframe thead th {\n",
       "        text-align: right;\n",
       "    }\n",
       "</style>\n",
       "<table border=\"1\" class=\"dataframe\">\n",
       "  <thead>\n",
       "    <tr style=\"text-align: right;\">\n",
       "      <th></th>\n",
       "      <th>Value</th>\n",
       "    </tr>\n",
       "    <tr>\n",
       "      <th>Year</th>\n",
       "      <th></th>\n",
       "    </tr>\n",
       "  </thead>\n",
       "  <tbody>\n",
       "    <tr>\n",
       "      <th>1961</th>\n",
       "      <td>2719000</td>\n",
       "    </tr>\n",
       "    <tr>\n",
       "      <th>1962</th>\n",
       "      <td>2447000</td>\n",
       "    </tr>\n",
       "    <tr>\n",
       "      <th>1963</th>\n",
       "      <td>3365000</td>\n",
       "    </tr>\n",
       "    <tr>\n",
       "      <th>1964</th>\n",
       "      <td>2593000</td>\n",
       "    </tr>\n",
       "    <tr>\n",
       "      <th>1965</th>\n",
       "      <td>3605000</td>\n",
       "    </tr>\n",
       "  </tbody>\n",
       "</table>\n",
       "</div>"
      ],
      "text/plain": [
       "        Value\n",
       "Year         \n",
       "1961  2719000\n",
       "1962  2447000\n",
       "1963  3365000\n",
       "1964  2593000\n",
       "1965  3605000"
      ]
     },
     "execution_count": 23,
     "metadata": {},
     "output_type": "execute_result"
    }
   ],
   "source": [
    "df_prod_temp = df_production[['Value']]\n",
    "df_prod_temp.head()"
   ]
  },
  {
   "cell_type": "code",
   "execution_count": 24,
   "metadata": {},
   "outputs": [
    {
     "data": {
      "image/png": "[encoded data removed]",
      "text/plain": [
       "<Figure size 432x288 with 1 Axes>"
      ]
     },
     "metadata": {},
     "output_type": "display_data"
    }
   ],
   "source": [
    "plot_acf(df_prod_temp);"
   ]
  },
  {
   "cell_type": "markdown",
   "metadata": {},
   "source": [
    "The correlation of 1 for the lag value of 0 indicates 100% positive correlation of an observation with itself. The autocorrelation function shows a slow decay, which means that the future values have a very high correlation with its past values."
   ]
  },
  {
   "cell_type": "code",
   "execution_count": 25,
   "metadata": {},
   "outputs": [
    {
     "data": {
      "image/png": "[encoded data removed]",
      "text/plain": [
       "<Figure size 432x288 with 4 Axes>"
      ]
     },
     "metadata": {},
     "output_type": "display_data"
    }
   ],
   "source": [
    "seasonal_decompose(df_prod_temp, model='additive', period=12).plot();"
   ]
  },
  {
   "cell_type": "markdown",
   "metadata": {},
   "source": [
    "#### RIFE"
   ]
  },
  {
   "cell_type": "code",
   "execution_count": 26,
   "metadata": {},
   "outputs": [],
   "source": [
    "df_prod_climate_emission_fertilizer = df_prod_climate.join(df_prod_emission['co2']).join(df_prod_fertilizer[['nitrogen', 'phosphate', 'potash']])"
   ]
  },
  {
   "cell_type": "code",
   "execution_count": 27,
   "metadata": {},
   "outputs": [
    {
     "data": {
      "text/html": [
       "<div>\n",
       "<style scoped>\n",
       "    .dataframe tbody tr th:only-of-type {\n",
       "        vertical-align: middle;\n",
       "    }\n",
       "\n",
       "    .dataframe tbody tr th {\n",
       "        vertical-align: top;\n",
       "    }\n",
       "\n",
       "    .dataframe thead th {\n",
       "        text-align: right;\n",
       "    }\n",
       "</style>\n",
       "<table border=\"1\" class=\"dataframe\">\n",
       "  <thead>\n",
       "    <tr style=\"text-align: right;\">\n",
       "      <th></th>\n",
       "      <th>production</th>\n",
       "      <th>precipitation</th>\n",
       "      <th>min_temp</th>\n",
       "      <th>avg_temp</th>\n",
       "      <th>max_temp</th>\n",
       "      <th>co2</th>\n",
       "      <th>nitrogen</th>\n",
       "      <th>phosphate</th>\n",
       "      <th>potash</th>\n",
       "    </tr>\n",
       "  </thead>\n",
       "  <tbody>\n",
       "    <tr>\n",
       "      <th>1990</th>\n",
       "      <td>0.252211</td>\n",
       "      <td>0.677721</td>\n",
       "      <td>0.527363</td>\n",
       "      <td>0.395310</td>\n",
       "      <td>0.252427</td>\n",
       "      <td>0.000000</td>\n",
       "      <td>0.359404</td>\n",
       "      <td>0.340397</td>\n",
       "      <td>0.359191</td>\n",
       "    </tr>\n",
       "    <tr>\n",
       "      <th>1991</th>\n",
       "      <td>0.261110</td>\n",
       "      <td>0.389155</td>\n",
       "      <td>0.451078</td>\n",
       "      <td>0.391960</td>\n",
       "      <td>0.317152</td>\n",
       "      <td>0.021800</td>\n",
       "      <td>0.382934</td>\n",
       "      <td>0.362157</td>\n",
       "      <td>0.367654</td>\n",
       "    </tr>\n",
       "    <tr>\n",
       "      <th>1992</th>\n",
       "      <td>0.322289</td>\n",
       "      <td>0.000000</td>\n",
       "      <td>0.315091</td>\n",
       "      <td>0.281407</td>\n",
       "      <td>0.237864</td>\n",
       "      <td>0.041301</td>\n",
       "      <td>0.402110</td>\n",
       "      <td>0.309366</td>\n",
       "      <td>0.236483</td>\n",
       "    </tr>\n",
       "    <tr>\n",
       "      <th>1993</th>\n",
       "      <td>0.328101</td>\n",
       "      <td>0.306071</td>\n",
       "      <td>0.421227</td>\n",
       "      <td>0.386935</td>\n",
       "      <td>0.331715</td>\n",
       "      <td>0.055975</td>\n",
       "      <td>0.418690</td>\n",
       "      <td>0.289499</td>\n",
       "      <td>0.250588</td>\n",
       "    </tr>\n",
       "    <tr>\n",
       "      <th>1994</th>\n",
       "      <td>0.305863</td>\n",
       "      <td>0.190381</td>\n",
       "      <td>0.475954</td>\n",
       "      <td>0.437186</td>\n",
       "      <td>0.381877</td>\n",
       "      <td>0.077687</td>\n",
       "      <td>0.454446</td>\n",
       "      <td>0.318448</td>\n",
       "      <td>0.302304</td>\n",
       "    </tr>\n",
       "  </tbody>\n",
       "</table>\n",
       "</div>"
      ],
      "text/plain": [
       "      production  precipitation  min_temp  avg_temp  max_temp       co2  \\\n",
       "1990    0.252211       0.677721  0.527363  0.395310  0.252427  0.000000   \n",
       "1991    0.261110       0.389155  0.451078  0.391960  0.317152  0.021800   \n",
       "1992    0.322289       0.000000  0.315091  0.281407  0.237864  0.041301   \n",
       "1993    0.328101       0.306071  0.421227  0.386935  0.331715  0.055975   \n",
       "1994    0.305863       0.190381  0.475954  0.437186  0.381877  0.077687   \n",
       "\n",
       "      nitrogen  phosphate    potash  \n",
       "1990  0.359404   0.340397  0.359191  \n",
       "1991  0.382934   0.362157  0.367654  \n",
       "1992  0.402110   0.309366  0.236483  \n",
       "1993  0.418690   0.289499  0.250588  \n",
       "1994  0.454446   0.318448  0.302304  "
      ]
     },
     "execution_count": 27,
     "metadata": {},
     "output_type": "execute_result"
    }
   ],
   "source": [
    "df_rife = df_prod_climate_emission_fertilizer.dropna()\n",
    "df_rife.head()"
   ]
  },
  {
   "cell_type": "code",
   "execution_count": 28,
   "metadata": {},
   "outputs": [],
   "source": [
    "array = df_rife.values\n",
    "X = array[:,1:-1]\n",
    "y = array[:,0]"
   ]
  },
  {
   "cell_type": "code",
   "execution_count": 29,
   "metadata": {},
   "outputs": [],
   "source": [
    "rfe = RFE(RandomForestRegressor(n_estimators=500, random_state=1), n_features_to_select=4)\n",
    "fit = rfe.fit(X, y)"
   ]
  },
  {
   "cell_type": "code",
   "execution_count": 30,
   "metadata": {},
   "outputs": [
    {
     "data": {
      "image/png": "[encoded data removed]",
      "text/plain": [
       "<Figure size 720x360 with 1 Axes>"
      ]
     },
     "metadata": {},
     "output_type": "display_data"
    }
   ],
   "source": [
    "plt.figure(figsize=(10,5))\n",
    "names = df_rife.columns.values[1:-1]\n",
    "ticks = [i for i in range(len(names))]\n",
    "plt.bar(ticks, fit.ranking_)\n",
    "plt.xticks(ticks, names)\n",
    "plt.rcParams['figure.figsize'] = [10, 10]\n",
    "plt.show()"
   ]
  },
  {
   "cell_type": "markdown",
   "metadata": {},
   "source": [
    "As seen from above plot, RFE suggests the top features as precipitation, min temp, avg temp and max temp as the important features wrt to produciton values and hence we can use these to predict production going forward."
   ]
  }
 ],
 "metadata": {
  "kernelspec": {
   "display_name": "Python 3.9.12 ('base')",
   "language": "python",
   "name": "python3"
  },
  "language_info": {
   "codemirror_mode": {
    "name": "ipython",
    "version": 3
   },
   "file_extension": ".py",
   "mimetype": "text/x-python",
   "name": "python",
   "nbconvert_exporter": "python",
   "pygments_lexer": "ipython3",
   "version": "3.9.12"
  },
  "orig_nbformat": 4,
  "vscode": {
   "interpreter": {
    "hash": "2a7d6de080543401d481936cc937e516b0f93920b4b1cbb8c94fddfd649c3e86"
   }
  }
 },
 "nbformat": 4,
 "nbformat_minor": 2
}
